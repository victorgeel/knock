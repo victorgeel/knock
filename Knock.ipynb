{
  "nbformat": 4,
  "nbformat_minor": 0,
  "metadata": {
    "colab": {
      "provenance": [],
      "authorship_tag": "ABX9TyNXNH3PdnN/HWNWE5skzQ/L",
      "include_colab_link": true
    },
    "kernelspec": {
      "name": "python3",
      "display_name": "Python 3"
    },
    "language_info": {
      "name": "python"
    }
  },
  "cells": [
    {
      "cell_type": "markdown",
      "metadata": {
        "id": "view-in-github",
        "colab_type": "text"
      },
      "source": [
        "<a href=\"https://colab.research.google.com/github/victorgeel/knock/blob/master/Knock.ipynb\" target=\"_parent\"><img src=\"https://colab.research.google.com/assets/colab-badge.svg\" alt=\"Open In Colab\"/></a>"
      ]
    },
    {
      "cell_type": "code",
      "execution_count": null,
      "metadata": {
        "colab": {
          "base_uri": "https://localhost:8080/"
        },
        "id": "CRqWu0UKRtMF",
        "outputId": "810832d8-81d5-4348-f125-0fad8aab8937"
      },
      "outputs": [
        {
          "output_type": "stream",
          "name": "stdout",
          "text": [
            "Cloning into 'knock'...\n",
            "remote: Enumerating objects: 483, done.\u001b[K\n",
            "remote: Counting objects: 100% (152/152), done.\u001b[K\n",
            "remote: Compressing objects: 100% (90/90), done.\u001b[K\n",
            "remote: Total 483 (delta 92), reused 88 (delta 58), pack-reused 331\u001b[K\n",
            "Receiving objects: 100% (483/483), 393.01 KiB | 3.71 MiB/s, done.\n",
            "Resolving deltas: 100% (226/226), done.\n"
          ]
        }
      ],
      "source": [
        "!git clone https://github.com/victorgeel/knock"
      ]
    },
    {
      "cell_type": "code",
      "source": [
        "%cd knock\n",
        "!pip install -r requirements.txt"
      ],
      "metadata": {
        "colab": {
          "base_uri": "https://localhost:8080/"
        },
        "id": "pP5iXv7bSRfS",
        "outputId": "413c7e54-444f-43d0-f1fa-e4de9ef00fb0"
      },
      "execution_count": 2,
      "outputs": [
        {
          "output_type": "stream",
          "name": "stdout",
          "text": [
            "/content/knock\n",
            "Requirement already satisfied: requests in /usr/local/lib/python3.10/dist-packages (from -r requirements.txt (line 1)) (2.31.0)\n",
            "Requirement already satisfied: beautifulsoup4 in /usr/local/lib/python3.10/dist-packages (from -r requirements.txt (line 2)) (4.11.2)\n",
            "Collecting colorama (from -r requirements.txt (line 3))\n",
            "  Downloading colorama-0.4.6-py2.py3-none-any.whl (25 kB)\n",
            "Collecting censys (from -r requirements.txt (line 4))\n",
            "  Downloading censys-2.2.8-py3-none-any.whl (73 kB)\n",
            "\u001b[2K     \u001b[90m━━━━━━━━━━━━━━━━━━━━━━━━━━━━━━━━━━━━━━━━\u001b[0m \u001b[32m73.0/73.0 kB\u001b[0m \u001b[31m2.8 MB/s\u001b[0m eta \u001b[36m0:00:00\u001b[0m\n",
            "\u001b[?25hRequirement already satisfied: charset-normalizer<4,>=2 in /usr/local/lib/python3.10/dist-packages (from requests->-r requirements.txt (line 1)) (3.3.2)\n",
            "Requirement already satisfied: idna<4,>=2.5 in /usr/local/lib/python3.10/dist-packages (from requests->-r requirements.txt (line 1)) (3.4)\n",
            "Requirement already satisfied: urllib3<3,>=1.21.1 in /usr/local/lib/python3.10/dist-packages (from requests->-r requirements.txt (line 1)) (2.0.7)\n",
            "Requirement already satisfied: certifi>=2017.4.17 in /usr/local/lib/python3.10/dist-packages (from requests->-r requirements.txt (line 1)) (2023.7.22)\n",
            "Requirement already satisfied: soupsieve>1.2 in /usr/local/lib/python3.10/dist-packages (from beautifulsoup4->-r requirements.txt (line 2)) (2.5)\n",
            "Collecting argcomplete<4.0.0,>=2.0.0 (from censys->-r requirements.txt (line 4))\n",
            "  Downloading argcomplete-3.1.4-py3-none-any.whl (41 kB)\n",
            "\u001b[2K     \u001b[90m━━━━━━━━━━━━━━━━━━━━━━━━━━━━━━━━━━━━━━━━\u001b[0m \u001b[32m41.6/41.6 kB\u001b[0m \u001b[31m3.0 MB/s\u001b[0m eta \u001b[36m0:00:00\u001b[0m\n",
            "\u001b[?25hCollecting backoff<3.0.0,>=2.0.0 (from censys->-r requirements.txt (line 4))\n",
            "  Downloading backoff-2.2.1-py3-none-any.whl (15 kB)\n",
            "Requirement already satisfied: rich>=10.16.2 in /usr/local/lib/python3.10/dist-packages (from censys->-r requirements.txt (line 4)) (13.6.0)\n",
            "Requirement already satisfied: markdown-it-py>=2.2.0 in /usr/local/lib/python3.10/dist-packages (from rich>=10.16.2->censys->-r requirements.txt (line 4)) (3.0.0)\n",
            "Requirement already satisfied: pygments<3.0.0,>=2.13.0 in /usr/local/lib/python3.10/dist-packages (from rich>=10.16.2->censys->-r requirements.txt (line 4)) (2.16.1)\n",
            "Requirement already satisfied: mdurl~=0.1 in /usr/local/lib/python3.10/dist-packages (from markdown-it-py>=2.2.0->rich>=10.16.2->censys->-r requirements.txt (line 4)) (0.1.2)\n",
            "Installing collected packages: colorama, backoff, argcomplete, censys\n",
            "Successfully installed argcomplete-3.1.4 backoff-2.2.1 censys-2.2.8 colorama-0.4.6\n"
          ]
        }
      ]
    },
    {
      "cell_type": "markdown",
      "source": [
        "## Replace Url or Domain after knockpy.py"
      ],
      "metadata": {
        "id": "isjR5hOWTAD1"
      }
    },
    {
      "cell_type": "code",
      "source": [
        "!python knockpy.py atom.com.mm"
      ],
      "metadata": {
        "colab": {
          "base_uri": "https://localhost:8080/"
        },
        "id": "adCXyqKlSR3O",
        "outputId": "75699e2a-726f-4d91-a941-6448b72c77dc"
      },
      "execution_count": 4,
      "outputs": [
        {
          "output_type": "stream",
          "name": "stdout",
          "text": [
            "\n",
            "  _  __                 _                \n",
            " | |/ /                | |   v6.1.0            \n",
            " | ' / _ __   ___   ___| | ___ __  _   _ \n",
            " |  < | '_ \\ / _ \\ / __| |/ / '_ \\| | | |\n",
            " | . \\| | | | (_) | (__|   <| |_) | |_| |\n",
            " |_|\\_\\_| |_|\\___/ \\___|_|\\_\\ .__/ \\__, |\n",
            "                            | |     __/ |\n",
            "                            |_|    |___/ \n",
            "\n",
            "\u001b[1m\u001b[33mlocal: \u001b[0m\u001b[1m\u001b[36m10757\u001b[0m \u001b[35m| \u001b[0m\u001b[1m\u001b[33mremote: \u001b[0m\u001b[1m\u001b[36m45\u001b[0m \u001b[35m\n",
            "\u001b[0m\n",
            "\u001b[1m\u001b[33mWordlist: \u001b[0m\u001b[1m\u001b[36m10802\u001b[0m \u001b[35m| \u001b[0m\u001b[1m\u001b[33mTarget: \u001b[0m\u001b[1m\u001b[36matom.com.mm\u001b[0m \u001b[35m| \u001b[0m\u001b[1m\u001b[33mIp: \u001b[0m\u001b[1m\u001b[36m103.255.172.158\u001b[0m \u001b[35m\n",
            "\u001b[0m\n",
            "\u001b[1m04:16:36\n",
            "\n",
            "Ip address      Code Subdomain                           Server                              Real hostname\n",
            "\u001b[0m--------------- ---- ----------------------------------- ----------------------------------- -----------------------------------\n",
            "103.255.172.158 \u001b[1m\u001b[32m200\u001b[0m  \u001b[1m\u001b[32marena.atom.com.mm\u001b[0m                                                                                          \n",
            "103.255.172.154      appd-eum.atom.com.mm                                                                                       \n",
            "103.255.172.68  \u001b[1m\u001b[32m200\u001b[0m  \u001b[1m\u001b[32mautodiscover.atom.com.mm\u001b[0m                                                                                   \n",
            "103.255.172.159 \u001b[1m\u001b[32m200\u001b[0m  \u001b[1m\u001b[32mbroadband.atom.com.mm\u001b[0m                                                                                      \n",
            "103.255.172.163 \u001b[1m\u001b[32m200\u001b[0m  \u001b[1m\u001b[32mbusiness.atom.com.mm\u001b[0m                                                                                       \n",
            "54.184.194.193  \u001b[1m\u001b[32m200\u001b[0m  \u001b[1m\u001b[32mclips.atom.com.mm\u001b[0m                                                       microsites.fw.tv\n",
            "103.255.172.225 \u001b[1m\u001b[35m404\u001b[0m  \u001b[1m\u001b[35mcg.atom.com.mm\u001b[0m                                                                                             \n",
            "103.255.172.155 \u001b[1m\u001b[32m200\u001b[0m  \u001b[1m\u001b[32mcontent.atom.com.mm\u001b[0m                 nginx                                                                  \n",
            "104.248.98.236  \u001b[1m\u001b[32m200\u001b[0m  \u001b[1m\u001b[32mdownload.atom.com.mm\u001b[0m                Apache/2.4.29 (Ubuntu)                                                 \n",
            "103.255.172.239 \u001b[1m\u001b[32m200\u001b[0m  \u001b[1m\u001b[32meagleapi.atom.com.mm\u001b[0m                                                                                       \n",
            "20.190.155.129  \u001b[1m\u001b[35m404\u001b[0m  \u001b[1m\u001b[35menterpriseregistration.atom.com.mm\u001b[0m                                      www.tm.f.prd.aadg.trafficmanager.net\n",
            "52.182.141.192  \u001b[1m\u001b[32m200\u001b[0m  \u001b[1m\u001b[32menterpriseenrollment.atom.com.mm\u001b[0m                                        pexsucpna03.centralus.cloudapp.azure.com\n",
            "103.255.172.233 \u001b[1m\u001b[32m200\u001b[0m  \u001b[1m\u001b[32menterprise.atom.com.mm\u001b[0m                                                                                     \n",
            "103.255.172.174 \u001b[1m\u001b[32m200\u001b[0m  \u001b[1m\u001b[32menterprise-gw.atom.com.mm\u001b[0m                                                                                  \n",
            "18.141.90.34    \u001b[1m\u001b[32m200\u001b[0m  \u001b[1m\u001b[32mfilter.ncnd.atom.com.mm\u001b[0m             nginx                               atom.ncnd.services\n",
            "37.111.34.131        es.atom.com.mm                                                                                             \n",
            "52.76.78.148    \u001b[1m\u001b[32m200\u001b[0m  \u001b[1m\u001b[32mfunhub.atom.com.mm\u001b[0m                  nginx                               store-sg.appsclub.com\n",
            "103.255.172.159 \u001b[1m\u001b[32m200\u001b[0m  \u001b[1m\u001b[32mhomeinternet.atom.com.mm\u001b[0m                                                                                   \n",
            "103.255.172.66       mail.atom.com.mm                                                                                           \n",
            "103.255.172.157 \u001b[1m\u001b[32m200\u001b[0m  \u001b[1m\u001b[32mmytune.atom.com.mm\u001b[0m                                                                                         \n",
            "103.255.172.66       owa.atom.com.mm                                                                                            \n",
            "103.255.172.162 \u001b[1m\u001b[32m200\u001b[0m  \u001b[1m\u001b[32mpay.atom.com.mm\u001b[0m                                                                                            \n",
            "18.141.129.227  \u001b[1m\u001b[32m200\u001b[0m  \u001b[1m\u001b[32mportal.ncnd.atom.com.mm\u001b[0m             nginx                               atom.ncnd.services\n",
            "103.255.172.160 \u001b[1m\u001b[35m404\u001b[0m  \u001b[1m\u001b[35mprod-apigw.atom.com.mm\u001b[0m                                                                                     \n",
            "103.255.172.233 \u001b[1m\u001b[32m200\u001b[0m  \u001b[1m\u001b[32mrms.atom.com.mm\u001b[0m                                                                                            \n",
            "52.84.52.120    \u001b[1m\u001b[32m200\u001b[0m  \u001b[1m\u001b[32msimreg.atom.com.mm\u001b[0m                  AmazonS3                            d1n23o0cmt82wl.cloudfront.net\n",
            "103.255.174.250 \u001b[1m\u001b[35m403\u001b[0m  \u001b[1m\u001b[35mspeedtest.atom.com.mm\u001b[0m               Apache/2.4.6 (CentOS) SVN/1.7.14 PH                                    \n",
            "103.255.175.250 \u001b[1m\u001b[35m403\u001b[0m  \u001b[1m\u001b[35mspeedtest1.atom.com.mm\u001b[0m              Apache/2.4.6 (CentOS) PHP/7.2.34                                       \n",
            "103.255.172.245 \u001b[1m\u001b[32m200\u001b[0m  \u001b[1m\u001b[32mstatic.atom.com.mm\u001b[0m                  nginx                                                                  \n",
            "103.255.172.198 \u001b[1m\u001b[35m403\u001b[0m  \u001b[1m\u001b[35mstore-staging.atom.com.mm\u001b[0m           nginx                                                                  \n",
            "103.255.172.201 \u001b[1m\u001b[35m403\u001b[0m  \u001b[1m\u001b[35mstore.atom.com.mm\u001b[0m                   nginx                                                                  \n",
            "103.255.172.253      test.atom.com.mm                                                                                           \n",
            "103.255.172.65  \u001b[1m\u001b[32m200\u001b[0m  \u001b[1m\u001b[32mvms.atom.com.mm\u001b[0m                                                                                            \n",
            "103.255.172.113      vpn2.atom.com.mm                                                                                           \n",
            "103.255.172.2        vpn1.atom.com.mm                                                                                           \n",
            "103.255.172.121      vpn3.atom.com.mm                                                                                           \n",
            "103.255.172.253      vpn.atom.com.mm                                                                                            \n",
            "103.255.172.105      vpn4.atom.com.mm                                                                                           \n",
            "103.255.172.68  \u001b[1m\u001b[32m200\u001b[0m  \u001b[1m\u001b[32mwebmail.atom.com.mm\u001b[0m                                                                                        \n",
            "103.255.172.158 \u001b[1m\u001b[32m200\u001b[0m  \u001b[1m\u001b[32mwww.atom.com.mm\u001b[0m                                                                                            \n",
            "\u001b[1m\n",
            "04:18:12\n",
            "\n",
            "\u001b[0m\u001b[1m\u001b[33mIp address: \u001b[0m\u001b[1m\u001b[36m45\u001b[0m \u001b[35m| \u001b[0m\u001b[1m\u001b[33mSubdomain: \u001b[0m\u001b[1m\u001b[36m40\u001b[0m \u001b[35m| \u001b[0m\u001b[1m\u001b[33melapsed time: \u001b[0m\u001b[1m\u001b[36m00:01:35\u001b[0m \u001b[35m\n",
            "\u001b[0m\n"
          ]
        }
      ]
    }
  ]
}