{
  "nbformat": 4,
  "nbformat_minor": 0,
  "metadata": {
    "colab": {
      "provenance": [],
      "authorship_tag": "ABX9TyOoFbIJjfMhWg15I9s8xplQ",
      "include_colab_link": true
    },
    "kernelspec": {
      "name": "python3",
      "display_name": "Python 3"
    },
    "language_info": {
      "name": "python"
    }
  },
  "cells": [
    {
      "cell_type": "markdown",
      "metadata": {
        "id": "view-in-github",
        "colab_type": "text"
      },
      "source": [
        "<a href=\"https://colab.research.google.com/github/victorgeel/knock/blob/master/Knock.ipynb\" target=\"_parent\"><img src=\"https://colab.research.google.com/assets/colab-badge.svg\" alt=\"Open In Colab\"/></a>"
      ]
    },
    {
      "cell_type": "code",
      "execution_count": 3,
      "metadata": {
        "colab": {
          "base_uri": "https://localhost:8080/"
        },
        "id": "IEfgsCCDsPoi",
        "outputId": "cb4b9caf-dd21-4c63-b2e6-cb0af3933873"
      },
      "outputs": [
        {
          "output_type": "stream",
          "name": "stdout",
          "text": [
            "fatal: destination path 'knock' already exists and is not an empty directory.\n",
            "/content/knock\n",
            "Requirement already satisfied: requests in /usr/local/lib/python3.10/dist-packages (from -r requirements.txt (line 1)) (2.31.0)\n",
            "Requirement already satisfied: beautifulsoup4 in /usr/local/lib/python3.10/dist-packages (from -r requirements.txt (line 2)) (4.11.2)\n",
            "Collecting colorama (from -r requirements.txt (line 3))\n",
            "  Downloading colorama-0.4.6-py2.py3-none-any.whl (25 kB)\n",
            "Collecting censys (from -r requirements.txt (line 4))\n",
            "  Downloading censys-2.2.7-py3-none-any.whl (73 kB)\n",
            "\u001b[2K     \u001b[90m━━━━━━━━━━━━━━━━━━━━━━━━━━━━━━━━━━━━━━━━\u001b[0m \u001b[32m73.0/73.0 kB\u001b[0m \u001b[31m2.6 MB/s\u001b[0m eta \u001b[36m0:00:00\u001b[0m\n",
            "\u001b[?25hRequirement already satisfied: charset-normalizer<4,>=2 in /usr/local/lib/python3.10/dist-packages (from requests->-r requirements.txt (line 1)) (3.3.0)\n",
            "Requirement already satisfied: idna<4,>=2.5 in /usr/local/lib/python3.10/dist-packages (from requests->-r requirements.txt (line 1)) (3.4)\n",
            "Requirement already satisfied: urllib3<3,>=1.21.1 in /usr/local/lib/python3.10/dist-packages (from requests->-r requirements.txt (line 1)) (2.0.6)\n",
            "Requirement already satisfied: certifi>=2017.4.17 in /usr/local/lib/python3.10/dist-packages (from requests->-r requirements.txt (line 1)) (2023.7.22)\n",
            "Requirement already satisfied: soupsieve>1.2 in /usr/local/lib/python3.10/dist-packages (from beautifulsoup4->-r requirements.txt (line 2)) (2.5)\n",
            "Collecting argcomplete<4.0.0,>=2.0.0 (from censys->-r requirements.txt (line 4))\n",
            "  Downloading argcomplete-3.1.2-py3-none-any.whl (41 kB)\n",
            "\u001b[2K     \u001b[90m━━━━━━━━━━━━━━━━━━━━━━━━━━━━━━━━━━━━━━━━\u001b[0m \u001b[32m41.5/41.5 kB\u001b[0m \u001b[31m3.6 MB/s\u001b[0m eta \u001b[36m0:00:00\u001b[0m\n",
            "\u001b[?25hCollecting backoff<3.0.0,>=2.0.0 (from censys->-r requirements.txt (line 4))\n",
            "  Downloading backoff-2.2.1-py3-none-any.whl (15 kB)\n",
            "Requirement already satisfied: rich>=10.16.2 in /usr/local/lib/python3.10/dist-packages (from censys->-r requirements.txt (line 4)) (13.6.0)\n",
            "Requirement already satisfied: markdown-it-py>=2.2.0 in /usr/local/lib/python3.10/dist-packages (from rich>=10.16.2->censys->-r requirements.txt (line 4)) (3.0.0)\n",
            "Requirement already satisfied: pygments<3.0.0,>=2.13.0 in /usr/local/lib/python3.10/dist-packages (from rich>=10.16.2->censys->-r requirements.txt (line 4)) (2.16.1)\n",
            "Requirement already satisfied: mdurl~=0.1 in /usr/local/lib/python3.10/dist-packages (from markdown-it-py>=2.2.0->rich>=10.16.2->censys->-r requirements.txt (line 4)) (0.1.2)\n",
            "Installing collected packages: colorama, backoff, argcomplete, censys\n",
            "Successfully installed argcomplete-3.1.2 backoff-2.2.1 censys-2.2.7 colorama-0.4.6\n"
          ]
        }
      ],
      "source": [
        "!git clone https://github.com/victorgeel/knock.git\n",
        "\n",
        "%cd knock\n",
        "\n",
        "!pip3 install -r requirements.txt"
      ]
    },
    {
      "cell_type": "code",
      "source": [
        "\n",
        " !python3 knockpy.py viu.com"
      ],
      "metadata": {
        "colab": {
          "base_uri": "https://localhost:8080/"
        },
        "id": "08aU_6uBs2ge",
        "outputId": "95c8844c-68a6-4f80-d061-df026ac20e27"
      },
      "execution_count": 4,
      "outputs": [
        {
          "output_type": "stream",
          "name": "stdout",
          "text": [
            "\n",
            "  _  __                 _                \n",
            " | |/ /                | |   v6.1.0            \n",
            " | ' / _ __   ___   ___| | ___ __  _   _ \n",
            " |  < | '_ \\ / _ \\ / __| |/ / '_ \\| | | |\n",
            " | . \\| | | | (_) | (__|   <| |_) | |_| |\n",
            " |_|\\_\\_| |_|\\___/ \\___|_|\\_\\ .__/ \\__, |\n",
            "                            | |     __/ |\n",
            "                            |_|    |___/ \n",
            "\n",
            "\u001b[1m\u001b[33mlocal: \u001b[0m\u001b[1m\u001b[36m10757\u001b[0m \u001b[35m| \u001b[0m\u001b[1m\u001b[33mremote: \u001b[0m\u001b[1m\u001b[36m74\u001b[0m \u001b[35m\n",
            "\u001b[0m\n",
            "\u001b[1m\u001b[33mWordlist: \u001b[0m\u001b[1m\u001b[36m10831\u001b[0m \u001b[35m| \u001b[0m\u001b[1m\u001b[33mTarget: \u001b[0m\u001b[1m\u001b[36mviu.com\u001b[0m \u001b[35m| \u001b[0m\u001b[1m\u001b[33mIp: \u001b[0m\u001b[1m\u001b[36m18.173.150.248\u001b[0m \u001b[35m\n",
            "\u001b[0m\n",
            "\u001b[1m13:37:04\n",
            "\n",
            "Ip address      Code Subdomain                           Server                              Real hostname\n",
            "\u001b[0m--------------- ---- ----------------------------------- ----------------------------------- -----------------------------------\n",
            "13.226.52.67    \u001b[1m\u001b[35m403\u001b[0m  \u001b[1m\u001b[35mapi-gateway.viu.com\u001b[0m                 CloudFront                                                             \n",
            "75.2.88.125     \u001b[1m\u001b[32m200\u001b[0m  \u001b[1m\u001b[32madl-pccw.viu.com\u001b[0m                    nginx/1.18.0 (Ubuntu)                                                  \n",
            "108.157.162.63  \u001b[1m\u001b[35m404\u001b[0m  \u001b[1m\u001b[35mams.viu.com\u001b[0m                         Apache/2.4.41 (Ubuntu)                                                 \n",
            "34.149.147.14   \u001b[1m\u001b[35m404\u001b[0m  \u001b[1m\u001b[35mapis.viu.com\u001b[0m                                                                                               \n",
            "44.213.194.172  \u001b[1m\u001b[35m401\u001b[0m  \u001b[1m\u001b[35mautodiscover.viu.com\u001b[0m                                                    autodiscover.mail.us-east-1.awsapps.com\n",
            "18.66.255.32    \u001b[1m\u001b[32m200\u001b[0m  \u001b[1m\u001b[32mapi-gateway-global.viu.com\u001b[0m          nginx/1.20.2                                                           \n",
            "52.221.81.5     \u001b[1m\u001b[35m404\u001b[0m  \u001b[1m\u001b[35maudience-pccw.viu.com\u001b[0m               gunicorn                                                               \n",
            "18.162.46.96    \u001b[1m\u001b[32m200\u001b[0m  \u001b[1m\u001b[32m4gold.viu.com\u001b[0m                       Apache                                                                 \n",
            "75.2.88.125     \u001b[1m\u001b[32m200\u001b[0m  \u001b[1m\u001b[32madl-ga-pccw.viu.com\u001b[0m                 nginx/1.18.0 (Ubuntu)                                                  \n",
            "52.220.7.137    \u001b[1m\u001b[31m503\u001b[0m  \u001b[1m\u001b[31mblackbox.viu.com\u001b[0m                    awselb/2.0                                                             \n",
            "54.179.152.225       1viu-cms.viu.com                                                                                           \n",
            "108.156.83.70   \u001b[1m\u001b[35m404\u001b[0m  \u001b[1m\u001b[35mconsumerdetails.viu.com\u001b[0m             nginx/1.20.0                                                           \n",
            "108.156.83.88   \u001b[1m\u001b[32m200\u001b[0m  \u001b[1m\u001b[32mbilling.viu.com\u001b[0m                     nginx                               du281qcslxxzw.cloudfront.net\n",
            "52.74.150.119   \u001b[1m\u001b[32m200\u001b[0m  \u001b[1m\u001b[32mcms.viu.com\u001b[0m                         Apache/2.4.57 (Ubuntu)                                                 \n",
            "3.225.140.174   \u001b[1m\u001b[35m404\u001b[0m  \u001b[1m\u001b[35mdmg.viu.com\u001b[0m                         nginx                               clopping-pround.com\n",
            "18.239.225.9    \u001b[1m\u001b[32m200\u001b[0m  \u001b[1m\u001b[32mblog.viu.com\u001b[0m                        nginx                                                                  \n",
            "203.135.138.23  \u001b[1m\u001b[32m200\u001b[0m  \u001b[1m\u001b[32mdownload-hk.viu.com\u001b[0m                 openresty                           download.hk.ottviu.com\n",
            "18.239.225.113  \u001b[1m\u001b[32m200\u001b[0m  \u001b[1m\u001b[32mhq.viu.com\u001b[0m                          nginx/1.18.0 (Ubuntu)                                                  \n",
            "180.188.197.42  \u001b[1m\u001b[35m401\u001b[0m  \u001b[1m\u001b[35mgamevoucher.viu.com\u001b[0m                 Apache/2.4.18                                                          \n",
            "104.16.51.111   \u001b[1m\u001b[35m403\u001b[0m  \u001b[1m\u001b[35mhelp.viu.com\u001b[0m                        cloudflare                          viu.zendesk.com\n",
            "54.169.241.204  \u001b[1m\u001b[31m503\u001b[0m  \u001b[1m\u001b[31mgrafana.viu.com\u001b[0m                     awselb/2.0                                                             \n",
            "54.179.185.14   \u001b[1m\u001b[32m200\u001b[0m  \u001b[1m\u001b[32midentity.viu.com\u001b[0m                    nginx/1.20.2                                                           \n",
            "167.89.115.120  \u001b[1m\u001b[35m404\u001b[0m  \u001b[1m\u001b[35mlink.mailer.viu.com\u001b[0m                 nginx                               sendgrid.net\n",
            "13.228.247.81   \u001b[1m\u001b[32m200\u001b[0m  \u001b[1m\u001b[32mais.th.viu.com\u001b[0m                      nginx                                                                  \n",
            "52.74.8.39      \u001b[1m\u001b[32m200\u001b[0m  \u001b[1m\u001b[32mlive.viu.com\u001b[0m                        nginx                                                                  \n",
            "52.74.35.236    \u001b[1m\u001b[32m200\u001b[0m  \u001b[1m\u001b[32mnotification.viu.com\u001b[0m                nginx/1.20.2                                                           \n",
            "203.135.138.42  \u001b[1m\u001b[35m404\u001b[0m  \u001b[1m\u001b[35mnowcom-vodstream-hk.viu.com\u001b[0m         openresty                           nowcom-vodstream-hk.ottviu.com\n",
            "3.0.29.170      \u001b[1m\u001b[32m200\u001b[0m  \u001b[1m\u001b[32mpay-gateway.viu.com\u001b[0m                 nginx                                                                  \n",
            "54.254.243.122  \u001b[1m\u001b[32m200\u001b[0m  \u001b[1m\u001b[32mpay-notification.viu.com\u001b[0m            nginx                                                                  \n",
            "13.250.178.151  \u001b[1m\u001b[35m404\u001b[0m  \u001b[1m\u001b[35mprod-in.viu.com\u001b[0m                     nginx/1.22.0                        viuapiprodv2.eba-ptf5qxyp.ap-southeast-1.elasticbeanstalk.com\n",
            "65.8.246.240    \u001b[1m\u001b[35m403\u001b[0m  \u001b[1m\u001b[35mpolyfillv3.viu.com\u001b[0m                  AmazonS3                                                               \n",
            "52.220.211.59   \u001b[1m\u001b[31m503\u001b[0m  \u001b[1m\u001b[31mprometheus.viu.com\u001b[0m                  awselb/2.0                                                             \n",
            "13.228.247.81   \u001b[1m\u001b[32m200\u001b[0m  \u001b[1m\u001b[32mcsl.hk.viu.com\u001b[0m                      nginx                                                                  \n",
            "52.74.205.197        live-alb.viu.com                                                                                           \n",
            "203.135.138.28  \u001b[1m\u001b[32m200\u001b[0m  \u001b[1m\u001b[32mstream-hk.viu.com\u001b[0m                   openresty                           stream.hk.ottviu.com\n",
            "13.226.52.63    \u001b[1m\u001b[35m403\u001b[0m  \u001b[1m\u001b[35mstatic.viu.com\u001b[0m                      AmazonS3                            d30n33ib4g5w9d.cloudfront.net\n",
            "18.239.225.54   \u001b[1m\u001b[32m200\u001b[0m  \u001b[1m\u001b[32msub.viu.com\u001b[0m                         AmazonS3                                                               \n",
            "54.151.128.194  \u001b[1m\u001b[32m200\u001b[0m  \u001b[1m\u001b[32mtruewonderfulmonth.viu.com\u001b[0m          nginx/1.22.1                                                           \n",
            "149.72.130.179       o105.ptr3821.welcome-mailer.viu.com                                                                        \n",
            "149.72.182.82        o79.sg.mailer.viu.com                                                                                      \n",
            "149.72.210.200       o80.sg.mailer.viu.com                                                                                      \n",
            "23.219.154.82   \u001b[1m\u001b[35m403\u001b[0m  \u001b[1m\u001b[35mprod-images.viu.com\u001b[0m                 AmazonS3                            a1862.v.akamai.net\n",
            "18.239.225.126  \u001b[1m\u001b[32m200\u001b[0m  \u001b[1m\u001b[32mumc-global.viu.com\u001b[0m                  AmazonS3                                                               \n",
            "18.239.225.119  \u001b[1m\u001b[32m200\u001b[0m  \u001b[1m\u001b[32mwww.hq.viu.com\u001b[0m                      nginx/1.18.0 (Ubuntu)                                                  \n",
            "65.8.178.119    \u001b[1m\u001b[32m200\u001b[0m  \u001b[1m\u001b[32mumc.viu.com\u001b[0m                         AmazonS3                                                               \n",
            "18.173.150.248  \u001b[1m\u001b[32m200\u001b[0m  \u001b[1m\u001b[32mwww.viu.com\u001b[0m                         nginx                                                                  \n",
            "130.211.34.18   \u001b[1m\u001b[31m500\u001b[0m  \u001b[1m\u001b[31mvuclipdme.viu.com\u001b[0m                   nginx                               promotion.vuclip.com\n",
            "52.74.8.39      \u001b[1m\u001b[32m200\u001b[0m  \u001b[1m\u001b[32mwp.viu.com\u001b[0m                          Apache/2.4.57 (Ubuntu)                                                 \n",
            "108.156.83.43   \u001b[1m\u001b[32m200\u001b[0m  \u001b[1m\u001b[32mwatch.viu.com\u001b[0m                       nginx                                                                  \n",
            "23.219.154.82   \u001b[1m\u001b[32m200\u001b[0m  \u001b[1m\u001b[32mvls-images.viu.com\u001b[0m                  AmazonS3                            a351.v.akamai.net\n",
            "52.76.192.158        pif-console-pccw.viu.com                                                                                   \n",
            "\u001b[1m\n",
            "13:37:27\n",
            "\n",
            "\u001b[0m\u001b[1m\u001b[33mIp address: \u001b[0m\u001b[1m\u001b[36m113\u001b[0m \u001b[35m| \u001b[0m\u001b[1m\u001b[33mSubdomain: \u001b[0m\u001b[1m\u001b[36m51\u001b[0m \u001b[35m| \u001b[0m\u001b[1m\u001b[33melapsed time: \u001b[0m\u001b[1m\u001b[36m00:00:23\u001b[0m \u001b[35m\n",
            "\u001b[0m\n"
          ]
        }
      ]
    }
  ]
}